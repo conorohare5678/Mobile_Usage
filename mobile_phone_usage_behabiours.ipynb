{
 "cells": [
  {
   "cell_type": "markdown",
   "id": "91d03d65",
   "metadata": {},
   "source": [
    "# Mobile device usage and user behaviour of that device"
   ]
  },
  {
   "cell_type": "markdown",
   "id": "9999a238",
   "metadata": {},
   "source": [
    "This is a self project i have taken on where i am looking into mobile device usage and user behaviours with each device this will include number of applications that they have installed on their device or what amount of time each user spends on each of their respected devices.\n",
    "\n",
    "The dataset has been retrived from kaggle with the web address below:\n",
    "https://www.kaggle.com/datasets/valakhorasani/mobile-device-usage-and-user-behavior-dataset?resource=download"
   ]
  },
  {
   "cell_type": "raw",
   "id": "18b63c21",
   "metadata": {},
   "source": [
    "Importation of the dataset and being desplayed with the data being broken down under different headings."
   ]
  },
  {
   "cell_type": "code",
   "execution_count": 1,
   "id": "cc473823",
   "metadata": {},
   "outputs": [],
   "source": [
    "import pandas as pd\n",
    "import numpy as np"
   ]
  },
  {
   "cell_type": "code",
   "execution_count": 2,
   "id": "b0ebcdca",
   "metadata": {},
   "outputs": [],
   "source": [
    "dataset_filename = 'user_behavior_dataset.csv'"
   ]
  },
  {
   "cell_type": "code",
   "execution_count": 3,
   "id": "e82fc4a4",
   "metadata": {},
   "outputs": [],
   "source": [
    "data_set = pd.read_csv(dataset_filename, index_col = 0)"
   ]
  },
  {
   "cell_type": "code",
   "execution_count": 4,
   "id": "aed06dce",
   "metadata": {},
   "outputs": [
    {
     "data": {
      "text/html": [
       "<div>\n",
       "<style scoped>\n",
       "    .dataframe tbody tr th:only-of-type {\n",
       "        vertical-align: middle;\n",
       "    }\n",
       "\n",
       "    .dataframe tbody tr th {\n",
       "        vertical-align: top;\n",
       "    }\n",
       "\n",
       "    .dataframe thead th {\n",
       "        text-align: right;\n",
       "    }\n",
       "</style>\n",
       "<table border=\"1\" class=\"dataframe\">\n",
       "  <thead>\n",
       "    <tr style=\"text-align: right;\">\n",
       "      <th></th>\n",
       "      <th>Device Model</th>\n",
       "      <th>Operating System</th>\n",
       "      <th>App Usage Time (min/day)</th>\n",
       "      <th>Screen On Time (hours/day)</th>\n",
       "      <th>Battery Drain (mAh/day)</th>\n",
       "      <th>Number of Apps Installed</th>\n",
       "      <th>Data Usage (MB/day)</th>\n",
       "      <th>Age</th>\n",
       "      <th>Gender</th>\n",
       "      <th>User Behavior Class</th>\n",
       "    </tr>\n",
       "    <tr>\n",
       "      <th>User ID</th>\n",
       "      <th></th>\n",
       "      <th></th>\n",
       "      <th></th>\n",
       "      <th></th>\n",
       "      <th></th>\n",
       "      <th></th>\n",
       "      <th></th>\n",
       "      <th></th>\n",
       "      <th></th>\n",
       "      <th></th>\n",
       "    </tr>\n",
       "  </thead>\n",
       "  <tbody>\n",
       "    <tr>\n",
       "      <th>1</th>\n",
       "      <td>Google Pixel 5</td>\n",
       "      <td>Android</td>\n",
       "      <td>393</td>\n",
       "      <td>6.4</td>\n",
       "      <td>1872</td>\n",
       "      <td>67</td>\n",
       "      <td>1122</td>\n",
       "      <td>40</td>\n",
       "      <td>Male</td>\n",
       "      <td>4</td>\n",
       "    </tr>\n",
       "    <tr>\n",
       "      <th>2</th>\n",
       "      <td>OnePlus 9</td>\n",
       "      <td>Android</td>\n",
       "      <td>268</td>\n",
       "      <td>4.7</td>\n",
       "      <td>1331</td>\n",
       "      <td>42</td>\n",
       "      <td>944</td>\n",
       "      <td>47</td>\n",
       "      <td>Female</td>\n",
       "      <td>3</td>\n",
       "    </tr>\n",
       "    <tr>\n",
       "      <th>3</th>\n",
       "      <td>Xiaomi Mi 11</td>\n",
       "      <td>Android</td>\n",
       "      <td>154</td>\n",
       "      <td>4.0</td>\n",
       "      <td>761</td>\n",
       "      <td>32</td>\n",
       "      <td>322</td>\n",
       "      <td>42</td>\n",
       "      <td>Male</td>\n",
       "      <td>2</td>\n",
       "    </tr>\n",
       "    <tr>\n",
       "      <th>4</th>\n",
       "      <td>Google Pixel 5</td>\n",
       "      <td>Android</td>\n",
       "      <td>239</td>\n",
       "      <td>4.8</td>\n",
       "      <td>1676</td>\n",
       "      <td>56</td>\n",
       "      <td>871</td>\n",
       "      <td>20</td>\n",
       "      <td>Male</td>\n",
       "      <td>3</td>\n",
       "    </tr>\n",
       "    <tr>\n",
       "      <th>5</th>\n",
       "      <td>iPhone 12</td>\n",
       "      <td>iOS</td>\n",
       "      <td>187</td>\n",
       "      <td>4.3</td>\n",
       "      <td>1367</td>\n",
       "      <td>58</td>\n",
       "      <td>988</td>\n",
       "      <td>31</td>\n",
       "      <td>Female</td>\n",
       "      <td>3</td>\n",
       "    </tr>\n",
       "    <tr>\n",
       "      <th>...</th>\n",
       "      <td>...</td>\n",
       "      <td>...</td>\n",
       "      <td>...</td>\n",
       "      <td>...</td>\n",
       "      <td>...</td>\n",
       "      <td>...</td>\n",
       "      <td>...</td>\n",
       "      <td>...</td>\n",
       "      <td>...</td>\n",
       "      <td>...</td>\n",
       "    </tr>\n",
       "    <tr>\n",
       "      <th>696</th>\n",
       "      <td>iPhone 12</td>\n",
       "      <td>iOS</td>\n",
       "      <td>92</td>\n",
       "      <td>3.9</td>\n",
       "      <td>1082</td>\n",
       "      <td>26</td>\n",
       "      <td>381</td>\n",
       "      <td>22</td>\n",
       "      <td>Male</td>\n",
       "      <td>2</td>\n",
       "    </tr>\n",
       "    <tr>\n",
       "      <th>697</th>\n",
       "      <td>Xiaomi Mi 11</td>\n",
       "      <td>Android</td>\n",
       "      <td>316</td>\n",
       "      <td>6.8</td>\n",
       "      <td>1965</td>\n",
       "      <td>68</td>\n",
       "      <td>1201</td>\n",
       "      <td>59</td>\n",
       "      <td>Male</td>\n",
       "      <td>4</td>\n",
       "    </tr>\n",
       "    <tr>\n",
       "      <th>698</th>\n",
       "      <td>Google Pixel 5</td>\n",
       "      <td>Android</td>\n",
       "      <td>99</td>\n",
       "      <td>3.1</td>\n",
       "      <td>942</td>\n",
       "      <td>22</td>\n",
       "      <td>457</td>\n",
       "      <td>50</td>\n",
       "      <td>Female</td>\n",
       "      <td>2</td>\n",
       "    </tr>\n",
       "    <tr>\n",
       "      <th>699</th>\n",
       "      <td>Samsung Galaxy S21</td>\n",
       "      <td>Android</td>\n",
       "      <td>62</td>\n",
       "      <td>1.7</td>\n",
       "      <td>431</td>\n",
       "      <td>13</td>\n",
       "      <td>224</td>\n",
       "      <td>44</td>\n",
       "      <td>Male</td>\n",
       "      <td>1</td>\n",
       "    </tr>\n",
       "    <tr>\n",
       "      <th>700</th>\n",
       "      <td>OnePlus 9</td>\n",
       "      <td>Android</td>\n",
       "      <td>212</td>\n",
       "      <td>5.4</td>\n",
       "      <td>1306</td>\n",
       "      <td>49</td>\n",
       "      <td>828</td>\n",
       "      <td>23</td>\n",
       "      <td>Female</td>\n",
       "      <td>3</td>\n",
       "    </tr>\n",
       "  </tbody>\n",
       "</table>\n",
       "<p>700 rows × 10 columns</p>\n",
       "</div>"
      ],
      "text/plain": [
       "               Device Model Operating System  App Usage Time (min/day)  \\\n",
       "User ID                                                                  \n",
       "1            Google Pixel 5          Android                       393   \n",
       "2                 OnePlus 9          Android                       268   \n",
       "3              Xiaomi Mi 11          Android                       154   \n",
       "4            Google Pixel 5          Android                       239   \n",
       "5                 iPhone 12              iOS                       187   \n",
       "...                     ...              ...                       ...   \n",
       "696               iPhone 12              iOS                        92   \n",
       "697            Xiaomi Mi 11          Android                       316   \n",
       "698          Google Pixel 5          Android                        99   \n",
       "699      Samsung Galaxy S21          Android                        62   \n",
       "700               OnePlus 9          Android                       212   \n",
       "\n",
       "         Screen On Time (hours/day)  Battery Drain (mAh/day)  \\\n",
       "User ID                                                        \n",
       "1                               6.4                     1872   \n",
       "2                               4.7                     1331   \n",
       "3                               4.0                      761   \n",
       "4                               4.8                     1676   \n",
       "5                               4.3                     1367   \n",
       "...                             ...                      ...   \n",
       "696                             3.9                     1082   \n",
       "697                             6.8                     1965   \n",
       "698                             3.1                      942   \n",
       "699                             1.7                      431   \n",
       "700                             5.4                     1306   \n",
       "\n",
       "         Number of Apps Installed  Data Usage (MB/day)  Age  Gender  \\\n",
       "User ID                                                               \n",
       "1                              67                 1122   40    Male   \n",
       "2                              42                  944   47  Female   \n",
       "3                              32                  322   42    Male   \n",
       "4                              56                  871   20    Male   \n",
       "5                              58                  988   31  Female   \n",
       "...                           ...                  ...  ...     ...   \n",
       "696                            26                  381   22    Male   \n",
       "697                            68                 1201   59    Male   \n",
       "698                            22                  457   50  Female   \n",
       "699                            13                  224   44    Male   \n",
       "700                            49                  828   23  Female   \n",
       "\n",
       "         User Behavior Class  \n",
       "User ID                       \n",
       "1                          4  \n",
       "2                          3  \n",
       "3                          2  \n",
       "4                          3  \n",
       "5                          3  \n",
       "...                      ...  \n",
       "696                        2  \n",
       "697                        4  \n",
       "698                        2  \n",
       "699                        1  \n",
       "700                        3  \n",
       "\n",
       "[700 rows x 10 columns]"
      ]
     },
     "execution_count": 4,
     "metadata": {},
     "output_type": "execute_result"
    }
   ],
   "source": [
    "data_set"
   ]
  },
  {
   "cell_type": "code",
   "execution_count": 5,
   "id": "83b1fcb1",
   "metadata": {},
   "outputs": [
    {
     "data": {
      "text/plain": [
       "Device Model                   object\n",
       "Operating System               object\n",
       "App Usage Time (min/day)        int64\n",
       "Screen On Time (hours/day)    float64\n",
       "Battery Drain (mAh/day)         int64\n",
       "Number of Apps Installed        int64\n",
       "Data Usage (MB/day)             int64\n",
       "Age                             int64\n",
       "Gender                         object\n",
       "User Behavior Class             int64\n",
       "dtype: object"
      ]
     },
     "execution_count": 5,
     "metadata": {},
     "output_type": "execute_result"
    }
   ],
   "source": [
    "data_set.dtypes\n",
    "#Print out the different tyoes of data for each column head"
   ]
  },
  {
   "cell_type": "code",
   "execution_count": 6,
   "id": "5d0bbc0f",
   "metadata": {},
   "outputs": [
    {
     "data": {
      "text/plain": [
       "Device Model                  Xiaomi Mi 11\n",
       "Operating System                   Android\n",
       "App Usage Time (min/day)               154\n",
       "Screen On Time (hours/day)             4.0\n",
       "Battery Drain (mAh/day)                761\n",
       "Number of Apps Installed                32\n",
       "Data Usage (MB/day)                    322\n",
       "Age                                     42\n",
       "Gender                                Male\n",
       "User Behavior Class                      2\n",
       "Name: 3, dtype: object"
      ]
     },
     "execution_count": 6,
     "metadata": {},
     "output_type": "execute_result"
    }
   ],
   "source": [
    "data_set.iloc[2]\n",
    "#Printing out data for the third row within the dataset so we can view the different information within it"
   ]
  },
  {
   "cell_type": "code",
   "execution_count": 7,
   "id": "bc70b804",
   "metadata": {},
   "outputs": [
    {
     "data": {
      "text/html": [
       "<div>\n",
       "<style scoped>\n",
       "    .dataframe tbody tr th:only-of-type {\n",
       "        vertical-align: middle;\n",
       "    }\n",
       "\n",
       "    .dataframe tbody tr th {\n",
       "        vertical-align: top;\n",
       "    }\n",
       "\n",
       "    .dataframe thead th {\n",
       "        text-align: right;\n",
       "    }\n",
       "</style>\n",
       "<table border=\"1\" class=\"dataframe\">\n",
       "  <thead>\n",
       "    <tr style=\"text-align: right;\">\n",
       "      <th></th>\n",
       "      <th>Device Model</th>\n",
       "      <th>Operating System</th>\n",
       "    </tr>\n",
       "    <tr>\n",
       "      <th>User ID</th>\n",
       "      <th></th>\n",
       "      <th></th>\n",
       "    </tr>\n",
       "  </thead>\n",
       "  <tbody>\n",
       "    <tr>\n",
       "      <th>1</th>\n",
       "      <td>Google Pixel 5</td>\n",
       "      <td>Android</td>\n",
       "    </tr>\n",
       "    <tr>\n",
       "      <th>2</th>\n",
       "      <td>OnePlus 9</td>\n",
       "      <td>Android</td>\n",
       "    </tr>\n",
       "    <tr>\n",
       "      <th>3</th>\n",
       "      <td>Xiaomi Mi 11</td>\n",
       "      <td>Android</td>\n",
       "    </tr>\n",
       "    <tr>\n",
       "      <th>4</th>\n",
       "      <td>Google Pixel 5</td>\n",
       "      <td>Android</td>\n",
       "    </tr>\n",
       "    <tr>\n",
       "      <th>5</th>\n",
       "      <td>iPhone 12</td>\n",
       "      <td>iOS</td>\n",
       "    </tr>\n",
       "    <tr>\n",
       "      <th>...</th>\n",
       "      <td>...</td>\n",
       "      <td>...</td>\n",
       "    </tr>\n",
       "    <tr>\n",
       "      <th>696</th>\n",
       "      <td>iPhone 12</td>\n",
       "      <td>iOS</td>\n",
       "    </tr>\n",
       "    <tr>\n",
       "      <th>697</th>\n",
       "      <td>Xiaomi Mi 11</td>\n",
       "      <td>Android</td>\n",
       "    </tr>\n",
       "    <tr>\n",
       "      <th>698</th>\n",
       "      <td>Google Pixel 5</td>\n",
       "      <td>Android</td>\n",
       "    </tr>\n",
       "    <tr>\n",
       "      <th>699</th>\n",
       "      <td>Samsung Galaxy S21</td>\n",
       "      <td>Android</td>\n",
       "    </tr>\n",
       "    <tr>\n",
       "      <th>700</th>\n",
       "      <td>OnePlus 9</td>\n",
       "      <td>Android</td>\n",
       "    </tr>\n",
       "  </tbody>\n",
       "</table>\n",
       "<p>700 rows × 2 columns</p>\n",
       "</div>"
      ],
      "text/plain": [
       "               Device Model Operating System\n",
       "User ID                                     \n",
       "1            Google Pixel 5          Android\n",
       "2                 OnePlus 9          Android\n",
       "3              Xiaomi Mi 11          Android\n",
       "4            Google Pixel 5          Android\n",
       "5                 iPhone 12              iOS\n",
       "...                     ...              ...\n",
       "696               iPhone 12              iOS\n",
       "697            Xiaomi Mi 11          Android\n",
       "698          Google Pixel 5          Android\n",
       "699      Samsung Galaxy S21          Android\n",
       "700               OnePlus 9          Android\n",
       "\n",
       "[700 rows x 2 columns]"
      ]
     },
     "execution_count": 7,
     "metadata": {},
     "output_type": "execute_result"
    }
   ],
   "source": [
    "data_set.iloc[:, [0,1]]\n",
    "#printing out the device models and their operating systems"
   ]
  },
  {
   "cell_type": "code",
   "execution_count": 8,
   "id": "44df2ccb",
   "metadata": {},
   "outputs": [
    {
     "data": {
      "text/html": [
       "<div>\n",
       "<style scoped>\n",
       "    .dataframe tbody tr th:only-of-type {\n",
       "        vertical-align: middle;\n",
       "    }\n",
       "\n",
       "    .dataframe tbody tr th {\n",
       "        vertical-align: top;\n",
       "    }\n",
       "\n",
       "    .dataframe thead th {\n",
       "        text-align: right;\n",
       "    }\n",
       "</style>\n",
       "<table border=\"1\" class=\"dataframe\">\n",
       "  <thead>\n",
       "    <tr style=\"text-align: right;\">\n",
       "      <th></th>\n",
       "      <th>Device Model</th>\n",
       "      <th>App Usage Time (min/day)</th>\n",
       "      <th>Screen On Time (hours/day)</th>\n",
       "    </tr>\n",
       "    <tr>\n",
       "      <th>User ID</th>\n",
       "      <th></th>\n",
       "      <th></th>\n",
       "      <th></th>\n",
       "    </tr>\n",
       "  </thead>\n",
       "  <tbody>\n",
       "    <tr>\n",
       "      <th>1</th>\n",
       "      <td>Google Pixel 5</td>\n",
       "      <td>393</td>\n",
       "      <td>6.4</td>\n",
       "    </tr>\n",
       "    <tr>\n",
       "      <th>2</th>\n",
       "      <td>OnePlus 9</td>\n",
       "      <td>268</td>\n",
       "      <td>4.7</td>\n",
       "    </tr>\n",
       "    <tr>\n",
       "      <th>3</th>\n",
       "      <td>Xiaomi Mi 11</td>\n",
       "      <td>154</td>\n",
       "      <td>4.0</td>\n",
       "    </tr>\n",
       "    <tr>\n",
       "      <th>4</th>\n",
       "      <td>Google Pixel 5</td>\n",
       "      <td>239</td>\n",
       "      <td>4.8</td>\n",
       "    </tr>\n",
       "    <tr>\n",
       "      <th>5</th>\n",
       "      <td>iPhone 12</td>\n",
       "      <td>187</td>\n",
       "      <td>4.3</td>\n",
       "    </tr>\n",
       "    <tr>\n",
       "      <th>...</th>\n",
       "      <td>...</td>\n",
       "      <td>...</td>\n",
       "      <td>...</td>\n",
       "    </tr>\n",
       "    <tr>\n",
       "      <th>696</th>\n",
       "      <td>iPhone 12</td>\n",
       "      <td>92</td>\n",
       "      <td>3.9</td>\n",
       "    </tr>\n",
       "    <tr>\n",
       "      <th>697</th>\n",
       "      <td>Xiaomi Mi 11</td>\n",
       "      <td>316</td>\n",
       "      <td>6.8</td>\n",
       "    </tr>\n",
       "    <tr>\n",
       "      <th>698</th>\n",
       "      <td>Google Pixel 5</td>\n",
       "      <td>99</td>\n",
       "      <td>3.1</td>\n",
       "    </tr>\n",
       "    <tr>\n",
       "      <th>699</th>\n",
       "      <td>Samsung Galaxy S21</td>\n",
       "      <td>62</td>\n",
       "      <td>1.7</td>\n",
       "    </tr>\n",
       "    <tr>\n",
       "      <th>700</th>\n",
       "      <td>OnePlus 9</td>\n",
       "      <td>212</td>\n",
       "      <td>5.4</td>\n",
       "    </tr>\n",
       "  </tbody>\n",
       "</table>\n",
       "<p>700 rows × 3 columns</p>\n",
       "</div>"
      ],
      "text/plain": [
       "               Device Model  App Usage Time (min/day)  \\\n",
       "User ID                                                 \n",
       "1            Google Pixel 5                       393   \n",
       "2                 OnePlus 9                       268   \n",
       "3              Xiaomi Mi 11                       154   \n",
       "4            Google Pixel 5                       239   \n",
       "5                 iPhone 12                       187   \n",
       "...                     ...                       ...   \n",
       "696               iPhone 12                        92   \n",
       "697            Xiaomi Mi 11                       316   \n",
       "698          Google Pixel 5                        99   \n",
       "699      Samsung Galaxy S21                        62   \n",
       "700               OnePlus 9                       212   \n",
       "\n",
       "         Screen On Time (hours/day)  \n",
       "User ID                              \n",
       "1                               6.4  \n",
       "2                               4.7  \n",
       "3                               4.0  \n",
       "4                               4.8  \n",
       "5                               4.3  \n",
       "...                             ...  \n",
       "696                             3.9  \n",
       "697                             6.8  \n",
       "698                             3.1  \n",
       "699                             1.7  \n",
       "700                             5.4  \n",
       "\n",
       "[700 rows x 3 columns]"
      ]
     },
     "execution_count": 8,
     "metadata": {},
     "output_type": "execute_result"
    }
   ],
   "source": [
    "data_set.iloc[:,[0,2,3]]\n",
    "#printing out the device models and different app usage time in minutes per day and screen time spent on \n",
    "#their phones daily"
   ]
  },
  {
   "cell_type": "code",
   "execution_count": 9,
   "id": "f0b55c64",
   "metadata": {},
   "outputs": [],
   "source": [
    "opersys = data_set['Operating System'].value_counts()\n",
    "#New variable created to display different number of operating systems used on phones"
   ]
  },
  {
   "cell_type": "code",
   "execution_count": 10,
   "id": "793f88e5",
   "metadata": {},
   "outputs": [
    {
     "data": {
      "text/plain": [
       "Operating System\n",
       "Android    554\n",
       "iOS        146\n",
       "Name: count, dtype: int64"
      ]
     },
     "execution_count": 10,
     "metadata": {},
     "output_type": "execute_result"
    }
   ],
   "source": [
    "opersys\n",
    "#printing the number of operating systems"
   ]
  },
  {
   "cell_type": "code",
   "execution_count": 11,
   "id": "483a15aa",
   "metadata": {},
   "outputs": [
    {
     "data": {
      "text/plain": [
       "Operating System\n",
       "Android    79.142857\n",
       "iOS        20.857143\n",
       "Name: count, dtype: float64"
      ]
     },
     "execution_count": 11,
     "metadata": {},
     "output_type": "execute_result"
    }
   ],
   "source": [
    "opersys / len(data_set)* 100\n",
    "#percentage of each operating system used"
   ]
  },
  {
   "cell_type": "code",
   "execution_count": 12,
   "id": "0453151d",
   "metadata": {},
   "outputs": [],
   "source": [
    "male_data = data_set[data_set['Gender']== 'Male']\n",
    "#Male variable created to view male device users"
   ]
  },
  {
   "cell_type": "code",
   "execution_count": 13,
   "id": "17428ff8",
   "metadata": {},
   "outputs": [],
   "source": [
    "opersysMale = male_data['Operating System'].value_counts()\n",
    "#print out the male users operating systems which is stored in a new variable"
   ]
  },
  {
   "cell_type": "code",
   "execution_count": 14,
   "id": "98688c3d",
   "metadata": {},
   "outputs": [
    {
     "data": {
      "text/plain": [
       "Operating System\n",
       "Android    292\n",
       "iOS         72\n",
       "Name: count, dtype: int64"
      ]
     },
     "execution_count": 14,
     "metadata": {},
     "output_type": "execute_result"
    }
   ],
   "source": [
    "opersysMale"
   ]
  },
  {
   "cell_type": "code",
   "execution_count": 15,
   "id": "af48e642",
   "metadata": {},
   "outputs": [
    {
     "data": {
      "text/plain": [
       "Operating System\n",
       "Android    41.714286\n",
       "iOS        10.285714\n",
       "Name: count, dtype: float64"
      ]
     },
     "execution_count": 15,
     "metadata": {},
     "output_type": "execute_result"
    }
   ],
   "source": [
    "opersysMale / len(data_set)* 100\n",
    "#Percentage of each male user using a specific operating system"
   ]
  },
  {
   "cell_type": "code",
   "execution_count": 16,
   "id": "abda1bd2",
   "metadata": {},
   "outputs": [],
   "source": [
    "female_data = data_set[data_set['Gender']== 'Female']\n",
    "#Female variable created to view female device users"
   ]
  },
  {
   "cell_type": "code",
   "execution_count": 17,
   "id": "6d341959",
   "metadata": {},
   "outputs": [],
   "source": [
    "opersysFemale = female_data['Operating System'].value_counts()\n",
    "#print out the female users operating systems which is stored in a new variable"
   ]
  },
  {
   "cell_type": "code",
   "execution_count": 18,
   "id": "476165ed",
   "metadata": {},
   "outputs": [
    {
     "data": {
      "text/plain": [
       "Operating System\n",
       "Android    262\n",
       "iOS         74\n",
       "Name: count, dtype: int64"
      ]
     },
     "execution_count": 18,
     "metadata": {},
     "output_type": "execute_result"
    }
   ],
   "source": [
    "opersysFemale"
   ]
  },
  {
   "cell_type": "code",
   "execution_count": 19,
   "id": "b6f95b4b",
   "metadata": {},
   "outputs": [
    {
     "data": {
      "text/plain": [
       "Operating System\n",
       "Android    37.428571\n",
       "iOS        10.571429\n",
       "Name: count, dtype: float64"
      ]
     },
     "execution_count": 19,
     "metadata": {},
     "output_type": "execute_result"
    }
   ],
   "source": [
    "opersysFemale / len(data_set)* 100\n",
    "#Percentage of each female user using a specific operating system"
   ]
  },
  {
   "cell_type": "code",
   "execution_count": null,
   "id": "e12b7b77",
   "metadata": {},
   "outputs": [],
   "source": []
  }
 ],
 "metadata": {
  "kernelspec": {
   "display_name": "Python 3 (ipykernel)",
   "language": "python",
   "name": "python3"
  },
  "language_info": {
   "codemirror_mode": {
    "name": "ipython",
    "version": 3
   },
   "file_extension": ".py",
   "mimetype": "text/x-python",
   "name": "python",
   "nbconvert_exporter": "python",
   "pygments_lexer": "ipython3",
   "version": "3.11.5"
  }
 },
 "nbformat": 4,
 "nbformat_minor": 5
}
